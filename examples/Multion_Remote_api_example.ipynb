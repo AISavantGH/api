{
 "cells": [
  {
   "cell_type": "code",
   "execution_count": 23,
   "metadata": {},
   "outputs": [
    {
     "name": "stdout",
     "output_type": "stream",
     "text": [
      "Requirement already satisfied: multion in /opt/homebrew/anaconda3/envs/multion/lib/python3.11/site-packages (0.2.20)\n",
      "Requirement already satisfied: cognitojwt<2.0.0,>=1.4.1 in /opt/homebrew/anaconda3/envs/multion/lib/python3.11/site-packages (from multion) (1.4.1)\n",
      "Requirement already satisfied: cryptography<42.0.0,>=41.0.1 in /opt/homebrew/anaconda3/envs/multion/lib/python3.11/site-packages (from multion) (41.0.5)\n",
      "Requirement already satisfied: ipython<9.0.0,>=8.1.0 in /opt/homebrew/anaconda3/envs/multion/lib/python3.11/site-packages (from multion) (8.18.0)\n",
      "Requirement already satisfied: openai<2.0.0,>=1.3.0 in /opt/homebrew/anaconda3/envs/multion/lib/python3.11/site-packages (from multion) (1.3.5)\n",
      "Requirement already satisfied: pillow<11.0.0,>=10.0.1 in /opt/homebrew/anaconda3/envs/multion/lib/python3.11/site-packages (from multion) (10.1.0)\n",
      "Requirement already satisfied: pytesseract<0.4.0,>=0.3.10 in /opt/homebrew/anaconda3/envs/multion/lib/python3.11/site-packages (from multion) (0.3.10)\n",
      "Requirement already satisfied: requests<3.0.0,>=2.31.0 in /opt/homebrew/anaconda3/envs/multion/lib/python3.11/site-packages (from multion) (2.31.0)\n",
      "Requirement already satisfied: requests-oauthlib<2.0.0,>=1.3.1 in /opt/homebrew/anaconda3/envs/multion/lib/python3.11/site-packages (from multion) (1.3.1)\n",
      "Requirement already satisfied: python-jose[cryptography] in /opt/homebrew/anaconda3/envs/multion/lib/python3.11/site-packages (from cognitojwt<2.0.0,>=1.4.1->multion) (3.3.0)\n",
      "Requirement already satisfied: cffi>=1.12 in /opt/homebrew/anaconda3/envs/multion/lib/python3.11/site-packages (from cryptography<42.0.0,>=41.0.1->multion) (1.16.0)\n",
      "Requirement already satisfied: decorator in /opt/homebrew/anaconda3/envs/multion/lib/python3.11/site-packages (from ipython<9.0.0,>=8.1.0->multion) (5.1.1)\n",
      "Requirement already satisfied: jedi>=0.16 in /opt/homebrew/anaconda3/envs/multion/lib/python3.11/site-packages (from ipython<9.0.0,>=8.1.0->multion) (0.19.1)\n",
      "Requirement already satisfied: matplotlib-inline in /opt/homebrew/anaconda3/envs/multion/lib/python3.11/site-packages (from ipython<9.0.0,>=8.1.0->multion) (0.1.6)\n",
      "Requirement already satisfied: prompt-toolkit!=3.0.37,<3.1.0,>=3.0.30 in /opt/homebrew/anaconda3/envs/multion/lib/python3.11/site-packages (from ipython<9.0.0,>=8.1.0->multion) (3.0.41)\n",
      "Requirement already satisfied: pygments>=2.4.0 in /opt/homebrew/anaconda3/envs/multion/lib/python3.11/site-packages (from ipython<9.0.0,>=8.1.0->multion) (2.17.2)\n",
      "Requirement already satisfied: stack-data in /opt/homebrew/anaconda3/envs/multion/lib/python3.11/site-packages (from ipython<9.0.0,>=8.1.0->multion) (0.6.3)\n",
      "Requirement already satisfied: traitlets>=5 in /opt/homebrew/anaconda3/envs/multion/lib/python3.11/site-packages (from ipython<9.0.0,>=8.1.0->multion) (5.13.0)\n",
      "Requirement already satisfied: pexpect>4.3 in /opt/homebrew/anaconda3/envs/multion/lib/python3.11/site-packages (from ipython<9.0.0,>=8.1.0->multion) (4.9.0)\n",
      "Requirement already satisfied: anyio<4,>=3.5.0 in /opt/homebrew/anaconda3/envs/multion/lib/python3.11/site-packages (from openai<2.0.0,>=1.3.0->multion) (3.7.1)\n",
      "Requirement already satisfied: distro<2,>=1.7.0 in /opt/homebrew/anaconda3/envs/multion/lib/python3.11/site-packages (from openai<2.0.0,>=1.3.0->multion) (1.8.0)\n",
      "Requirement already satisfied: httpx<1,>=0.23.0 in /opt/homebrew/anaconda3/envs/multion/lib/python3.11/site-packages (from openai<2.0.0,>=1.3.0->multion) (0.25.2)\n",
      "Requirement already satisfied: pydantic<3,>=1.9.0 in /opt/homebrew/anaconda3/envs/multion/lib/python3.11/site-packages (from openai<2.0.0,>=1.3.0->multion) (2.5.2)\n",
      "Requirement already satisfied: tqdm>4 in /opt/homebrew/anaconda3/envs/multion/lib/python3.11/site-packages (from openai<2.0.0,>=1.3.0->multion) (4.66.1)\n",
      "Requirement already satisfied: typing-extensions<5,>=4.5 in /opt/homebrew/anaconda3/envs/multion/lib/python3.11/site-packages (from openai<2.0.0,>=1.3.0->multion) (4.8.0)\n",
      "Requirement already satisfied: packaging>=21.3 in /opt/homebrew/anaconda3/envs/multion/lib/python3.11/site-packages (from pytesseract<0.4.0,>=0.3.10->multion) (23.2)\n",
      "Requirement already satisfied: charset-normalizer<4,>=2 in /opt/homebrew/anaconda3/envs/multion/lib/python3.11/site-packages (from requests<3.0.0,>=2.31.0->multion) (3.3.2)\n",
      "Requirement already satisfied: idna<4,>=2.5 in /opt/homebrew/anaconda3/envs/multion/lib/python3.11/site-packages (from requests<3.0.0,>=2.31.0->multion) (3.5)\n",
      "Requirement already satisfied: urllib3<3,>=1.21.1 in /opt/homebrew/anaconda3/envs/multion/lib/python3.11/site-packages (from requests<3.0.0,>=2.31.0->multion) (2.1.0)\n",
      "Requirement already satisfied: certifi>=2017.4.17 in /opt/homebrew/anaconda3/envs/multion/lib/python3.11/site-packages (from requests<3.0.0,>=2.31.0->multion) (2023.11.17)\n",
      "Requirement already satisfied: oauthlib>=3.0.0 in /opt/homebrew/anaconda3/envs/multion/lib/python3.11/site-packages (from requests-oauthlib<2.0.0,>=1.3.1->multion) (3.2.2)\n",
      "Requirement already satisfied: sniffio>=1.1 in /opt/homebrew/anaconda3/envs/multion/lib/python3.11/site-packages (from anyio<4,>=3.5.0->openai<2.0.0,>=1.3.0->multion) (1.3.0)\n",
      "Requirement already satisfied: pycparser in /opt/homebrew/anaconda3/envs/multion/lib/python3.11/site-packages (from cffi>=1.12->cryptography<42.0.0,>=41.0.1->multion) (2.21)\n",
      "Requirement already satisfied: httpcore==1.* in /opt/homebrew/anaconda3/envs/multion/lib/python3.11/site-packages (from httpx<1,>=0.23.0->openai<2.0.0,>=1.3.0->multion) (1.0.2)\n",
      "Requirement already satisfied: h11<0.15,>=0.13 in /opt/homebrew/anaconda3/envs/multion/lib/python3.11/site-packages (from httpcore==1.*->httpx<1,>=0.23.0->openai<2.0.0,>=1.3.0->multion) (0.14.0)\n",
      "Requirement already satisfied: parso<0.9.0,>=0.8.3 in /opt/homebrew/anaconda3/envs/multion/lib/python3.11/site-packages (from jedi>=0.16->ipython<9.0.0,>=8.1.0->multion) (0.8.3)\n",
      "Requirement already satisfied: ptyprocess>=0.5 in /opt/homebrew/anaconda3/envs/multion/lib/python3.11/site-packages (from pexpect>4.3->ipython<9.0.0,>=8.1.0->multion) (0.7.0)\n",
      "Requirement already satisfied: wcwidth in /opt/homebrew/anaconda3/envs/multion/lib/python3.11/site-packages (from prompt-toolkit!=3.0.37,<3.1.0,>=3.0.30->ipython<9.0.0,>=8.1.0->multion) (0.2.12)\n",
      "Requirement already satisfied: annotated-types>=0.4.0 in /opt/homebrew/anaconda3/envs/multion/lib/python3.11/site-packages (from pydantic<3,>=1.9.0->openai<2.0.0,>=1.3.0->multion) (0.6.0)\n",
      "Requirement already satisfied: pydantic-core==2.14.5 in /opt/homebrew/anaconda3/envs/multion/lib/python3.11/site-packages (from pydantic<3,>=1.9.0->openai<2.0.0,>=1.3.0->multion) (2.14.5)\n",
      "Requirement already satisfied: ecdsa!=0.15 in /opt/homebrew/anaconda3/envs/multion/lib/python3.11/site-packages (from python-jose[cryptography]->cognitojwt<2.0.0,>=1.4.1->multion) (0.18.0)\n",
      "Requirement already satisfied: rsa in /opt/homebrew/anaconda3/envs/multion/lib/python3.11/site-packages (from python-jose[cryptography]->cognitojwt<2.0.0,>=1.4.1->multion) (4.9)\n",
      "Requirement already satisfied: pyasn1 in /opt/homebrew/anaconda3/envs/multion/lib/python3.11/site-packages (from python-jose[cryptography]->cognitojwt<2.0.0,>=1.4.1->multion) (0.5.1)\n",
      "Requirement already satisfied: executing>=1.2.0 in /opt/homebrew/anaconda3/envs/multion/lib/python3.11/site-packages (from stack-data->ipython<9.0.0,>=8.1.0->multion) (2.0.0)\n",
      "Requirement already satisfied: asttokens>=2.1.0 in /opt/homebrew/anaconda3/envs/multion/lib/python3.11/site-packages (from stack-data->ipython<9.0.0,>=8.1.0->multion) (2.4.1)\n",
      "Requirement already satisfied: pure-eval in /opt/homebrew/anaconda3/envs/multion/lib/python3.11/site-packages (from stack-data->ipython<9.0.0,>=8.1.0->multion) (0.2.2)\n",
      "Requirement already satisfied: six>=1.12.0 in /opt/homebrew/anaconda3/envs/multion/lib/python3.11/site-packages (from asttokens>=2.1.0->stack-data->ipython<9.0.0,>=8.1.0->multion) (1.16.0)\n"
     ]
    }
   ],
   "source": [
    "!pip install --upgrade multion"
   ]
  },
  {
   "cell_type": "code",
   "execution_count": 24,
   "metadata": {},
   "outputs": [],
   "source": [
    "import multion\n",
    "\n",
    "# multion.set_api_url(\"http://127.0.0.1:8080\")"
   ]
  },
  {
   "cell_type": "code",
   "execution_count": 25,
   "metadata": {},
   "outputs": [],
   "source": [
    "multion.api_key = \"5e787f836dba4d98911e9484ce26bb06\""
   ]
  },
  {
   "cell_type": "code",
   "execution_count": 26,
   "metadata": {},
   "outputs": [
    {
     "name": "stdout",
     "output_type": "stream",
     "text": [
      "Logged in using API key.\n"
     ]
    }
   ],
   "source": [
    "multion.login(use_api=True)"
   ]
  },
  {
   "cell_type": "code",
   "execution_count": 27,
   "metadata": {},
   "outputs": [
    {
     "data": {
      "text/plain": [
       "True"
      ]
     },
     "execution_count": 27,
     "metadata": {},
     "output_type": "execute_result"
    }
   ],
   "source": [
    "response = multion.set_remote(True)\n",
    "response"
   ]
  },
  {
   "cell_type": "code",
   "execution_count": 28,
   "metadata": {},
   "outputs": [
    {
     "data": {
      "text/plain": [
       "True"
      ]
     },
     "execution_count": 28,
     "metadata": {},
     "output_type": "execute_result"
    }
   ],
   "source": [
    "multion.get_remote()"
   ]
  },
  {
   "cell_type": "code",
   "execution_count": 29,
   "metadata": {},
   "outputs": [
    {
     "name": "stdout",
     "output_type": "stream",
     "text": [
      "running new session\n",
      "Multion extension not connected\n",
      "None\n"
     ]
    },
    {
     "ename": "TypeError",
     "evalue": "'NoneType' object is not subscriptable",
     "output_type": "error",
     "traceback": [
      "\u001b[0;31m---------------------------------------------------------------------------\u001b[0m",
      "\u001b[0;31mTypeError\u001b[0m                                 Traceback (most recent call last)",
      "\u001b[1;32m/Users/div/multi/api/examples/Multion_Remote_api_example.ipynb Cell 7\u001b[0m line \u001b[0;36m3\n\u001b[1;32m      <a href='vscode-notebook-cell:/Users/div/multi/api/examples/Multion_Remote_api_example.ipynb#Y112sZmlsZQ%3D%3D?line=0'>1</a>\u001b[0m response \u001b[39m=\u001b[39m multion\u001b[39m.\u001b[39mnew_session({\u001b[39m\"\u001b[39m\u001b[39minput\u001b[39m\u001b[39m\"\u001b[39m: \u001b[39m\"\u001b[39m\u001b[39mwhat is the weather today in sf\u001b[39m\u001b[39m\"\u001b[39m,\u001b[39m\"\u001b[39m\u001b[39murl\u001b[39m\u001b[39m\"\u001b[39m: \u001b[39m\"\u001b[39m\u001b[39mhttps://www.google.com\u001b[39m\u001b[39m\"\u001b[39m})\n\u001b[1;32m      <a href='vscode-notebook-cell:/Users/div/multi/api/examples/Multion_Remote_api_example.ipynb#Y112sZmlsZQ%3D%3D?line=1'>2</a>\u001b[0m \u001b[39mprint\u001b[39m(response)\n\u001b[0;32m----> <a href='vscode-notebook-cell:/Users/div/multi/api/examples/Multion_Remote_api_example.ipynb#Y112sZmlsZQ%3D%3D?line=2'>3</a>\u001b[0m sessionID \u001b[39m=\u001b[39m response[\u001b[39m'\u001b[39;49m\u001b[39msession_id\u001b[39;49m\u001b[39m'\u001b[39;49m]\n",
      "\u001b[0;31mTypeError\u001b[0m: 'NoneType' object is not subscriptable"
     ]
    }
   ],
   "source": [
    "response = multion.new_session({\"input\": \"what is the weather today in sf\",\"url\": \"https://www.google.com\"})\n",
    "print(response)\n",
    "sessionID = response['session_id']"
   ]
  },
  {
   "cell_type": "code",
   "execution_count": null,
   "metadata": {},
   "outputs": [],
   "source": [
    "sessionID = response['session_id']"
   ]
  },
  {
   "cell_type": "code",
   "execution_count": null,
   "metadata": {},
   "outputs": [
    {
     "name": "stdout",
     "output_type": "stream",
     "text": [
      "session updated\n"
     ]
    }
   ],
   "source": [
    "response = multion.update_session(sessionID, {\"input\": \"what is the weather today in menlo park\",\"url\": \"https://www.google.com\"})"
   ]
  },
  {
   "cell_type": "code",
   "execution_count": null,
   "metadata": {},
   "outputs": [
    {
     "name": "stdout",
     "output_type": "stream",
     "text": [
      "{'url': '', 'screenshot': '', 'message': 'I am clicking on the \"Reserve a table\" link for Bistro Boudin on Google Maps to achieve the objective of starting the reservation process.\\n\\n Status: DONE', 'status': 'NOT_ACTIVE', 'session_id': '722996ab-518d-40a4-847b-be093c4eda74'}\n"
     ]
    }
   ],
   "source": [
    "print(response)"
   ]
  },
  {
   "cell_type": "code",
   "execution_count": null,
   "metadata": {},
   "outputs": [
    {
     "data": {
      "text/html": [
       "<video src=\"video.webm\" controls  >\n",
       "      Your browser does not support the <code>video</code> element.\n",
       "    </video>"
      ],
      "text/plain": [
       "<IPython.core.display.Video object>"
      ]
     },
     "execution_count": 25,
     "metadata": {},
     "output_type": "execute_result"
    }
   ],
   "source": [
    "multion.get_video(sessionID)"
   ]
  },
  {
   "cell_type": "code",
   "execution_count": null,
   "metadata": {},
   "outputs": [
    {
     "data": {
      "text/plain": [
       "{'status': 'Session closed',\n",
       " 'session_id': '9dd20774-21e1-4b84-87a2-9669b514ccf2'}"
      ]
     },
     "execution_count": 11,
     "metadata": {},
     "output_type": "execute_result"
    }
   ],
   "source": [
    "multion.close_session(sessionID)"
   ]
  }
 ],
 "metadata": {
  "kernelspec": {
   "display_name": "Python 3",
   "language": "python",
   "name": "python3"
  },
  "language_info": {
   "codemirror_mode": {
    "name": "ipython",
    "version": 3
   },
   "file_extension": ".py",
   "mimetype": "text/x-python",
   "name": "python",
   "nbconvert_exporter": "python",
   "pygments_lexer": "ipython3",
   "version": "3.11.5"
  },
  "orig_nbformat": 4
 },
 "nbformat": 4,
 "nbformat_minor": 2
}
